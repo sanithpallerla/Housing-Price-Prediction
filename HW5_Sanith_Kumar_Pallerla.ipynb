{
 "cells": [
  {
   "cell_type": "markdown",
   "id": "03358aa5-c701-4225-9cc7-eb7bcdd4515b",
   "metadata": {},
   "source": [
    "Without Using Regression Model"
   ]
  },
  {
   "cell_type": "code",
   "execution_count": 44,
   "id": "fe8af890-9e64-4c75-8273-b8cc7148ec07",
   "metadata": {},
   "outputs": [],
   "source": [
    "import pandas as pd\n",
    "import numpy as np\n",
    "from statistics import stdev,mean"
   ]
  },
  {
   "cell_type": "code",
   "execution_count": 45,
   "id": "4e4c8e49-4457-4bbc-a5e5-3b029401d74e",
   "metadata": {},
   "outputs": [],
   "source": [
    "df = pd.read_excel('real+estate+valuation+data+set/Real estate valuation data set.xlsx')"
   ]
  },
  {
   "cell_type": "code",
   "execution_count": 46,
   "id": "48800b9f-92bc-407a-bc8c-f2f8bb42fa58",
   "metadata": {},
   "outputs": [
    {
     "data": {
      "text/html": [
       "<div>\n",
       "<style scoped>\n",
       "    .dataframe tbody tr th:only-of-type {\n",
       "        vertical-align: middle;\n",
       "    }\n",
       "\n",
       "    .dataframe tbody tr th {\n",
       "        vertical-align: top;\n",
       "    }\n",
       "\n",
       "    .dataframe thead th {\n",
       "        text-align: right;\n",
       "    }\n",
       "</style>\n",
       "<table border=\"1\" class=\"dataframe\">\n",
       "  <thead>\n",
       "    <tr style=\"text-align: right;\">\n",
       "      <th></th>\n",
       "      <th>No</th>\n",
       "      <th>X1 transaction date</th>\n",
       "      <th>X2 house age</th>\n",
       "      <th>X3 distance to the nearest MRT station</th>\n",
       "      <th>X4 number of convenience stores</th>\n",
       "      <th>X5 latitude</th>\n",
       "      <th>X6 longitude</th>\n",
       "      <th>Y house price of unit area</th>\n",
       "    </tr>\n",
       "  </thead>\n",
       "  <tbody>\n",
       "    <tr>\n",
       "      <th>0</th>\n",
       "      <td>1</td>\n",
       "      <td>2012.916667</td>\n",
       "      <td>32.0</td>\n",
       "      <td>84.87882</td>\n",
       "      <td>10</td>\n",
       "      <td>24.98298</td>\n",
       "      <td>121.54024</td>\n",
       "      <td>37.9</td>\n",
       "    </tr>\n",
       "    <tr>\n",
       "      <th>1</th>\n",
       "      <td>2</td>\n",
       "      <td>2012.916667</td>\n",
       "      <td>19.5</td>\n",
       "      <td>306.59470</td>\n",
       "      <td>9</td>\n",
       "      <td>24.98034</td>\n",
       "      <td>121.53951</td>\n",
       "      <td>42.2</td>\n",
       "    </tr>\n",
       "    <tr>\n",
       "      <th>2</th>\n",
       "      <td>3</td>\n",
       "      <td>2013.583333</td>\n",
       "      <td>13.3</td>\n",
       "      <td>561.98450</td>\n",
       "      <td>5</td>\n",
       "      <td>24.98746</td>\n",
       "      <td>121.54391</td>\n",
       "      <td>47.3</td>\n",
       "    </tr>\n",
       "    <tr>\n",
       "      <th>3</th>\n",
       "      <td>4</td>\n",
       "      <td>2013.500000</td>\n",
       "      <td>13.3</td>\n",
       "      <td>561.98450</td>\n",
       "      <td>5</td>\n",
       "      <td>24.98746</td>\n",
       "      <td>121.54391</td>\n",
       "      <td>54.8</td>\n",
       "    </tr>\n",
       "    <tr>\n",
       "      <th>4</th>\n",
       "      <td>5</td>\n",
       "      <td>2012.833333</td>\n",
       "      <td>5.0</td>\n",
       "      <td>390.56840</td>\n",
       "      <td>5</td>\n",
       "      <td>24.97937</td>\n",
       "      <td>121.54245</td>\n",
       "      <td>43.1</td>\n",
       "    </tr>\n",
       "  </tbody>\n",
       "</table>\n",
       "</div>"
      ],
      "text/plain": [
       "   No  X1 transaction date  X2 house age  \\\n",
       "0   1          2012.916667          32.0   \n",
       "1   2          2012.916667          19.5   \n",
       "2   3          2013.583333          13.3   \n",
       "3   4          2013.500000          13.3   \n",
       "4   5          2012.833333           5.0   \n",
       "\n",
       "   X3 distance to the nearest MRT station  X4 number of convenience stores  \\\n",
       "0                                84.87882                               10   \n",
       "1                               306.59470                                9   \n",
       "2                               561.98450                                5   \n",
       "3                               561.98450                                5   \n",
       "4                               390.56840                                5   \n",
       "\n",
       "   X5 latitude  X6 longitude  Y house price of unit area  \n",
       "0     24.98298     121.54024                        37.9  \n",
       "1     24.98034     121.53951                        42.2  \n",
       "2     24.98746     121.54391                        47.3  \n",
       "3     24.98746     121.54391                        54.8  \n",
       "4     24.97937     121.54245                        43.1  "
      ]
     },
     "execution_count": 46,
     "metadata": {},
     "output_type": "execute_result"
    }
   ],
   "source": [
    "df.head()"
   ]
  },
  {
   "cell_type": "code",
   "execution_count": 47,
   "id": "7b4eab60-53aa-470b-b2c5-2904f53258b8",
   "metadata": {},
   "outputs": [],
   "source": [
    "df.rename(columns = {'X1 transaction date':'Date',\n",
    "                    'X2 house age':'Age',\n",
    "                    'X3 distance to the nearest MRT station':'Distance to MRT Station',\n",
    "                    'X4 number of convenience stores':'Convenience',\n",
    "                    'X5 latitude':'Latitude',\n",
    "                    'X6 longitude':'Longitude',\n",
    "                    'Y house price of unit area':'Price'}, inplace = True)"
   ]
  },
  {
   "cell_type": "code",
   "execution_count": 48,
   "id": "a212c43b-64da-41d5-86cc-a645dfb8a58a",
   "metadata": {},
   "outputs": [
    {
     "data": {
      "text/html": [
       "<div>\n",
       "<style scoped>\n",
       "    .dataframe tbody tr th:only-of-type {\n",
       "        vertical-align: middle;\n",
       "    }\n",
       "\n",
       "    .dataframe tbody tr th {\n",
       "        vertical-align: top;\n",
       "    }\n",
       "\n",
       "    .dataframe thead th {\n",
       "        text-align: right;\n",
       "    }\n",
       "</style>\n",
       "<table border=\"1\" class=\"dataframe\">\n",
       "  <thead>\n",
       "    <tr style=\"text-align: right;\">\n",
       "      <th></th>\n",
       "      <th>No</th>\n",
       "      <th>Date</th>\n",
       "      <th>Age</th>\n",
       "      <th>Distance to MRT Station</th>\n",
       "      <th>Convenience</th>\n",
       "      <th>Latitude</th>\n",
       "      <th>Longitude</th>\n",
       "      <th>Price</th>\n",
       "    </tr>\n",
       "  </thead>\n",
       "  <tbody>\n",
       "    <tr>\n",
       "      <th>0</th>\n",
       "      <td>1</td>\n",
       "      <td>2012.916667</td>\n",
       "      <td>32.0</td>\n",
       "      <td>84.87882</td>\n",
       "      <td>10</td>\n",
       "      <td>24.98298</td>\n",
       "      <td>121.54024</td>\n",
       "      <td>37.9</td>\n",
       "    </tr>\n",
       "    <tr>\n",
       "      <th>1</th>\n",
       "      <td>2</td>\n",
       "      <td>2012.916667</td>\n",
       "      <td>19.5</td>\n",
       "      <td>306.59470</td>\n",
       "      <td>9</td>\n",
       "      <td>24.98034</td>\n",
       "      <td>121.53951</td>\n",
       "      <td>42.2</td>\n",
       "    </tr>\n",
       "    <tr>\n",
       "      <th>2</th>\n",
       "      <td>3</td>\n",
       "      <td>2013.583333</td>\n",
       "      <td>13.3</td>\n",
       "      <td>561.98450</td>\n",
       "      <td>5</td>\n",
       "      <td>24.98746</td>\n",
       "      <td>121.54391</td>\n",
       "      <td>47.3</td>\n",
       "    </tr>\n",
       "    <tr>\n",
       "      <th>3</th>\n",
       "      <td>4</td>\n",
       "      <td>2013.500000</td>\n",
       "      <td>13.3</td>\n",
       "      <td>561.98450</td>\n",
       "      <td>5</td>\n",
       "      <td>24.98746</td>\n",
       "      <td>121.54391</td>\n",
       "      <td>54.8</td>\n",
       "    </tr>\n",
       "    <tr>\n",
       "      <th>4</th>\n",
       "      <td>5</td>\n",
       "      <td>2012.833333</td>\n",
       "      <td>5.0</td>\n",
       "      <td>390.56840</td>\n",
       "      <td>5</td>\n",
       "      <td>24.97937</td>\n",
       "      <td>121.54245</td>\n",
       "      <td>43.1</td>\n",
       "    </tr>\n",
       "  </tbody>\n",
       "</table>\n",
       "</div>"
      ],
      "text/plain": [
       "   No         Date   Age  Distance to MRT Station  Convenience  Latitude  \\\n",
       "0   1  2012.916667  32.0                 84.87882           10  24.98298   \n",
       "1   2  2012.916667  19.5                306.59470            9  24.98034   \n",
       "2   3  2013.583333  13.3                561.98450            5  24.98746   \n",
       "3   4  2013.500000  13.3                561.98450            5  24.98746   \n",
       "4   5  2012.833333   5.0                390.56840            5  24.97937   \n",
       "\n",
       "   Longitude  Price  \n",
       "0  121.54024   37.9  \n",
       "1  121.53951   42.2  \n",
       "2  121.54391   47.3  \n",
       "3  121.54391   54.8  \n",
       "4  121.54245   43.1  "
      ]
     },
     "execution_count": 48,
     "metadata": {},
     "output_type": "execute_result"
    }
   ],
   "source": [
    "df.head()"
   ]
  },
  {
   "cell_type": "code",
   "execution_count": 49,
   "id": "771c9cd6-d041-4ee2-a36e-f967131178f9",
   "metadata": {},
   "outputs": [
    {
     "data": {
      "text/html": [
       "<div>\n",
       "<style scoped>\n",
       "    .dataframe tbody tr th:only-of-type {\n",
       "        vertical-align: middle;\n",
       "    }\n",
       "\n",
       "    .dataframe tbody tr th {\n",
       "        vertical-align: top;\n",
       "    }\n",
       "\n",
       "    .dataframe thead th {\n",
       "        text-align: right;\n",
       "    }\n",
       "</style>\n",
       "<table border=\"1\" class=\"dataframe\">\n",
       "  <thead>\n",
       "    <tr style=\"text-align: right;\">\n",
       "      <th></th>\n",
       "      <th>Date</th>\n",
       "      <th>Age</th>\n",
       "      <th>Distance to MRT Station</th>\n",
       "      <th>Convenience</th>\n",
       "      <th>Latitude</th>\n",
       "      <th>Longitude</th>\n",
       "      <th>Price</th>\n",
       "    </tr>\n",
       "  </thead>\n",
       "  <tbody>\n",
       "    <tr>\n",
       "      <th>0</th>\n",
       "      <td>2012.916667</td>\n",
       "      <td>32.0</td>\n",
       "      <td>84.87882</td>\n",
       "      <td>10</td>\n",
       "      <td>24.98298</td>\n",
       "      <td>121.54024</td>\n",
       "      <td>37.9</td>\n",
       "    </tr>\n",
       "    <tr>\n",
       "      <th>1</th>\n",
       "      <td>2012.916667</td>\n",
       "      <td>19.5</td>\n",
       "      <td>306.59470</td>\n",
       "      <td>9</td>\n",
       "      <td>24.98034</td>\n",
       "      <td>121.53951</td>\n",
       "      <td>42.2</td>\n",
       "    </tr>\n",
       "    <tr>\n",
       "      <th>2</th>\n",
       "      <td>2013.583333</td>\n",
       "      <td>13.3</td>\n",
       "      <td>561.98450</td>\n",
       "      <td>5</td>\n",
       "      <td>24.98746</td>\n",
       "      <td>121.54391</td>\n",
       "      <td>47.3</td>\n",
       "    </tr>\n",
       "    <tr>\n",
       "      <th>3</th>\n",
       "      <td>2013.500000</td>\n",
       "      <td>13.3</td>\n",
       "      <td>561.98450</td>\n",
       "      <td>5</td>\n",
       "      <td>24.98746</td>\n",
       "      <td>121.54391</td>\n",
       "      <td>54.8</td>\n",
       "    </tr>\n",
       "    <tr>\n",
       "      <th>4</th>\n",
       "      <td>2012.833333</td>\n",
       "      <td>5.0</td>\n",
       "      <td>390.56840</td>\n",
       "      <td>5</td>\n",
       "      <td>24.97937</td>\n",
       "      <td>121.54245</td>\n",
       "      <td>43.1</td>\n",
       "    </tr>\n",
       "    <tr>\n",
       "      <th>...</th>\n",
       "      <td>...</td>\n",
       "      <td>...</td>\n",
       "      <td>...</td>\n",
       "      <td>...</td>\n",
       "      <td>...</td>\n",
       "      <td>...</td>\n",
       "      <td>...</td>\n",
       "    </tr>\n",
       "    <tr>\n",
       "      <th>409</th>\n",
       "      <td>2013.000000</td>\n",
       "      <td>13.7</td>\n",
       "      <td>4082.01500</td>\n",
       "      <td>0</td>\n",
       "      <td>24.94155</td>\n",
       "      <td>121.50381</td>\n",
       "      <td>15.4</td>\n",
       "    </tr>\n",
       "    <tr>\n",
       "      <th>410</th>\n",
       "      <td>2012.666667</td>\n",
       "      <td>5.6</td>\n",
       "      <td>90.45606</td>\n",
       "      <td>9</td>\n",
       "      <td>24.97433</td>\n",
       "      <td>121.54310</td>\n",
       "      <td>50.0</td>\n",
       "    </tr>\n",
       "    <tr>\n",
       "      <th>411</th>\n",
       "      <td>2013.250000</td>\n",
       "      <td>18.8</td>\n",
       "      <td>390.96960</td>\n",
       "      <td>7</td>\n",
       "      <td>24.97923</td>\n",
       "      <td>121.53986</td>\n",
       "      <td>40.6</td>\n",
       "    </tr>\n",
       "    <tr>\n",
       "      <th>412</th>\n",
       "      <td>2013.000000</td>\n",
       "      <td>8.1</td>\n",
       "      <td>104.81010</td>\n",
       "      <td>5</td>\n",
       "      <td>24.96674</td>\n",
       "      <td>121.54067</td>\n",
       "      <td>52.5</td>\n",
       "    </tr>\n",
       "    <tr>\n",
       "      <th>413</th>\n",
       "      <td>2013.500000</td>\n",
       "      <td>6.5</td>\n",
       "      <td>90.45606</td>\n",
       "      <td>9</td>\n",
       "      <td>24.97433</td>\n",
       "      <td>121.54310</td>\n",
       "      <td>63.9</td>\n",
       "    </tr>\n",
       "  </tbody>\n",
       "</table>\n",
       "<p>414 rows × 7 columns</p>\n",
       "</div>"
      ],
      "text/plain": [
       "            Date   Age  Distance to MRT Station  Convenience  Latitude  \\\n",
       "0    2012.916667  32.0                 84.87882           10  24.98298   \n",
       "1    2012.916667  19.5                306.59470            9  24.98034   \n",
       "2    2013.583333  13.3                561.98450            5  24.98746   \n",
       "3    2013.500000  13.3                561.98450            5  24.98746   \n",
       "4    2012.833333   5.0                390.56840            5  24.97937   \n",
       "..           ...   ...                      ...          ...       ...   \n",
       "409  2013.000000  13.7               4082.01500            0  24.94155   \n",
       "410  2012.666667   5.6                 90.45606            9  24.97433   \n",
       "411  2013.250000  18.8                390.96960            7  24.97923   \n",
       "412  2013.000000   8.1                104.81010            5  24.96674   \n",
       "413  2013.500000   6.5                 90.45606            9  24.97433   \n",
       "\n",
       "     Longitude  Price  \n",
       "0    121.54024   37.9  \n",
       "1    121.53951   42.2  \n",
       "2    121.54391   47.3  \n",
       "3    121.54391   54.8  \n",
       "4    121.54245   43.1  \n",
       "..         ...    ...  \n",
       "409  121.50381   15.4  \n",
       "410  121.54310   50.0  \n",
       "411  121.53986   40.6  \n",
       "412  121.54067   52.5  \n",
       "413  121.54310   63.9  \n",
       "\n",
       "[414 rows x 7 columns]"
      ]
     },
     "execution_count": 49,
     "metadata": {},
     "output_type": "execute_result"
    }
   ],
   "source": [
    "df.drop(columns=['No'], inplace = True)\n",
    "df"
   ]
  },
  {
   "cell_type": "code",
   "execution_count": 50,
   "id": "43e87fec-03b4-4fce-8eb8-e8bd80cfff2a",
   "metadata": {},
   "outputs": [],
   "source": [
    "def standard_units(x):\n",
    "    return (x - np.average(x))/np.std(x)\n",
    "\n",
    "def correlation(t, x, y):\n",
    "    x_su = standard_units(t[x])\n",
    "    y_su = standard_units(t[y])\n",
    "    return np.average(x_su * y_su)\n",
    "\n",
    "def slope(t, x, y):\n",
    "    r = correlation(t, x, y)\n",
    "    return r * np.std(t[y])/np.std(t[x])\n",
    "\n",
    "def intercept(t, x, y):\n",
    "    a = slope(t, x, y)\n",
    "    return np.average(t[y]) - a*np.average(t[x])"
   ]
  },
  {
   "cell_type": "code",
   "execution_count": 51,
   "id": "0fb3fc2a-7730-4526-9c11-9ae9ede69ba2",
   "metadata": {},
   "outputs": [],
   "source": [
    "def predict(x):\n",
    "    s_i1 = correlation(x,'Date','Price') * np.std(x['Price'])/np.std(x['Date'])\n",
    "    s_i2 = correlation(x,'Age','Price') * np.std(x['Price'])/np.std(x['Age'])\n",
    "    s_i3 = correlation(x,'Distance to MRT Station','Price') * np.std(x['Price'])/np.std(x['Distance to MRT Station'])\n",
    "    s_i4 = correlation(x,'Convenience','Price') * np.std(x['Price'])/np.std(x['Convenience'])\n",
    "    s_i5 = correlation(x,'Latitude','Price') * np.std(x['Price'])/np.std(x['Latitude'])\n",
    "    s_i6 = correlation(x,'Longitude','Price') * np.std(x['Price'])/np.std(x['Longitude'])\n",
    "\n",
    "\n",
    "    intercept = np.average(x['Price']) - [\n",
    "        (s_i1 * np.average(x['Date'])) + (s_i2 * np.average( x['Age'] ) ) + (s_i3 * np.average(x['Distance to MRT Station'])) + (s_i4 * np.average(x['Convenience'])) + (s_i5 * np.average(x['Latitude'])) + (s_i6 * np.average(x['Longitude']))]\n",
    "\n",
    "    return s_i1 * x['Date'] + s_i2 * x['Age'] + s_i3 * x['Distance to MRT Station'] + s_i4 * x['Convenience'] + s_i5 * x['Latitude'] + s_i6 * x['Longitude'] + intercept"
   ]
  },
  {
   "cell_type": "code",
   "execution_count": 52,
   "id": "5f6187a8-6eba-4349-8714-350ae6f88886",
   "metadata": {},
   "outputs": [
    {
     "data": {
      "text/plain": [
       "Index(['Date', 'Age', 'Distance to MRT Station', 'Convenience', 'Latitude',\n",
       "       'Longitude', 'Price'],\n",
       "      dtype='object')"
      ]
     },
     "execution_count": 52,
     "metadata": {},
     "output_type": "execute_result"
    }
   ],
   "source": [
    "df.columns"
   ]
  },
  {
   "cell_type": "code",
   "execution_count": 53,
   "id": "6b0d4ccf-b0d4-4e8a-9331-210a2d8bb4c4",
   "metadata": {},
   "outputs": [
    {
     "data": {
      "text/plain": [
       "0      67.785256\n",
       "1      64.761147\n",
       "2      63.036644\n",
       "3      62.684698\n",
       "4      57.678317\n",
       "         ...    \n",
       "409   -24.380904\n",
       "410    66.836334\n",
       "411    59.954454\n",
       "412    51.287013\n",
       "413    70.129455\n",
       "Length: 414, dtype: float64"
      ]
     },
     "execution_count": 53,
     "metadata": {},
     "output_type": "execute_result"
    }
   ],
   "source": [
    "predicted_values = predict(df)\n",
    "predicted_values"
   ]
  },
  {
   "cell_type": "code",
   "execution_count": 54,
   "id": "a82057e6-324a-440f-bfd3-12886ae71bcf",
   "metadata": {},
   "outputs": [],
   "source": [
    "predicted_values = predicted_values.to_frame()"
   ]
  },
  {
   "cell_type": "code",
   "execution_count": 55,
   "id": "b74d6ba9-6052-4116-89a5-6a90aa7c3d47",
   "metadata": {},
   "outputs": [
    {
     "data": {
      "text/html": [
       "<div>\n",
       "<style scoped>\n",
       "    .dataframe tbody tr th:only-of-type {\n",
       "        vertical-align: middle;\n",
       "    }\n",
       "\n",
       "    .dataframe tbody tr th {\n",
       "        vertical-align: top;\n",
       "    }\n",
       "\n",
       "    .dataframe thead th {\n",
       "        text-align: right;\n",
       "    }\n",
       "</style>\n",
       "<table border=\"1\" class=\"dataframe\">\n",
       "  <thead>\n",
       "    <tr style=\"text-align: right;\">\n",
       "      <th></th>\n",
       "      <th>0</th>\n",
       "    </tr>\n",
       "  </thead>\n",
       "  <tbody>\n",
       "    <tr>\n",
       "      <th>0</th>\n",
       "      <td>67.785256</td>\n",
       "    </tr>\n",
       "    <tr>\n",
       "      <th>1</th>\n",
       "      <td>64.761147</td>\n",
       "    </tr>\n",
       "    <tr>\n",
       "      <th>2</th>\n",
       "      <td>63.036644</td>\n",
       "    </tr>\n",
       "    <tr>\n",
       "      <th>3</th>\n",
       "      <td>62.684698</td>\n",
       "    </tr>\n",
       "    <tr>\n",
       "      <th>4</th>\n",
       "      <td>57.678317</td>\n",
       "    </tr>\n",
       "    <tr>\n",
       "      <th>...</th>\n",
       "      <td>...</td>\n",
       "    </tr>\n",
       "    <tr>\n",
       "      <th>409</th>\n",
       "      <td>-24.380904</td>\n",
       "    </tr>\n",
       "    <tr>\n",
       "      <th>410</th>\n",
       "      <td>66.836334</td>\n",
       "    </tr>\n",
       "    <tr>\n",
       "      <th>411</th>\n",
       "      <td>59.954454</td>\n",
       "    </tr>\n",
       "    <tr>\n",
       "      <th>412</th>\n",
       "      <td>51.287013</td>\n",
       "    </tr>\n",
       "    <tr>\n",
       "      <th>413</th>\n",
       "      <td>70.129455</td>\n",
       "    </tr>\n",
       "  </tbody>\n",
       "</table>\n",
       "<p>414 rows × 1 columns</p>\n",
       "</div>"
      ],
      "text/plain": [
       "             0\n",
       "0    67.785256\n",
       "1    64.761147\n",
       "2    63.036644\n",
       "3    62.684698\n",
       "4    57.678317\n",
       "..         ...\n",
       "409 -24.380904\n",
       "410  66.836334\n",
       "411  59.954454\n",
       "412  51.287013\n",
       "413  70.129455\n",
       "\n",
       "[414 rows x 1 columns]"
      ]
     },
     "execution_count": 55,
     "metadata": {},
     "output_type": "execute_result"
    }
   ],
   "source": [
    "predicted_values"
   ]
  },
  {
   "cell_type": "code",
   "execution_count": 56,
   "id": "038fd7b6-1dbb-4f15-aefc-b04bc3487bba",
   "metadata": {},
   "outputs": [],
   "source": [
    "def mean_squared_error(y_true, y_pred):\n",
    "    mse = np.mean((y_true - y_pred) ** 2)\n",
    "    return mse"
   ]
  },
  {
   "cell_type": "code",
   "execution_count": 57,
   "id": "f37585e4-5037-44ad-b095-dfbebe3fcf16",
   "metadata": {},
   "outputs": [],
   "source": [
    "mse = mean_squared_error(predicted_values[0],df['Price'])"
   ]
  },
  {
   "cell_type": "code",
   "execution_count": 58,
   "id": "e0f0ccf7-93ea-4483-b472-061f293bd883",
   "metadata": {},
   "outputs": [
    {
     "data": {
      "text/plain": [
       "338.107462512296"
      ]
     },
     "execution_count": 58,
     "metadata": {},
     "output_type": "execute_result"
    }
   ],
   "source": [
    "mse"
   ]
  },
  {
   "cell_type": "raw",
   "id": "8c8d0f9d-3d6d-4cad-a7f9-132b97ac85cd",
   "metadata": {},
   "source": [
    "Using Logistic Regression Model"
   ]
  },
  {
   "cell_type": "code",
   "execution_count": 59,
   "id": "78e14a54-fb7a-42c5-b73a-bca208fb29db",
   "metadata": {},
   "outputs": [],
   "source": [
    "import pandas as pd\n",
    "import matplotlib.pyplot as plt\n",
    "from sklearn.model_selection import train_test_split\n",
    "from sklearn.linear_model import LinearRegression\n",
    "from sklearn.metrics import mean_squared_error, r2_score"
   ]
  },
  {
   "cell_type": "code",
   "execution_count": 60,
   "id": "b2fcff54-8fb7-4e6f-b8eb-8f8d623c1589",
   "metadata": {},
   "outputs": [],
   "source": [
    "# Load the dataset\n",
    "data = 'real+estate+valuation+data+set/Real estate valuation data set.xlsx'\n",
    "df = pd.read_excel(data)\n",
    "\n",
    "target_col = df.columns[-1]\n",
    "\n",
    "predictor_cols = df.columns[1:6]  \n",
    "\n",
    "X = df[predictor_cols]\n",
    "y = df[target_col]\n",
    "X_train, X_test, y_train, y_test = train_test_split(X, y, test_size=0.2, random_state=42)"
   ]
  },
  {
   "cell_type": "code",
   "execution_count": 61,
   "id": "637ee032-1daf-478f-a8e0-cdbe5de9b572",
   "metadata": {},
   "outputs": [],
   "source": [
    "X_train_std = (X_train - X_train.mean()) / X_train.std()\n",
    "X_test_std = (X_test - X_train.mean()) / X_train.std()\n",
    "y_train_std = (y_train - y_train.mean()) / y_train.std()"
   ]
  },
  {
   "cell_type": "code",
   "execution_count": 62,
   "id": "7b970f43-3efc-4e41-8305-0890622424ca",
   "metadata": {},
   "outputs": [],
   "source": [
    "model = LinearRegression()\n",
    "model.fit(X_train_std, y_train_std)\n",
    "\n",
    "y_pred_std = model.predict(X_test_std)\n",
    "\n",
    "y_pred = y_pred_std * y_train.std() + y_train.mean()"
   ]
  },
  {
   "cell_type": "code",
   "execution_count": 63,
   "id": "68ec1856-99a0-47de-b233-a87bcdc3f156",
   "metadata": {},
   "outputs": [
    {
     "name": "stdout",
     "output_type": "stream",
     "text": [
      "Mean Squared Error (MSE): 53.161525002800815\n",
      "Root Mean Squared Error (RMSE): 7.291195032558162\n",
      "R-squared (R2): 0.6831091680854111\n"
     ]
    }
   ],
   "source": [
    "mse = mean_squared_error(y_test, y_pred)\n",
    "rmse = mean_squared_error(y_test, y_pred, squared=False)\n",
    "r2 = r2_score(y_test, y_pred)\n",
    "\n",
    "print(\"Mean Squared Error (MSE):\", mse)\n",
    "print(\"Root Mean Squared Error (RMSE):\", rmse)\n",
    "print(\"R-squared (R2):\", r2)"
   ]
  },
  {
   "cell_type": "code",
   "execution_count": 64,
   "id": "0859ed22-f948-48a1-8a8c-f43bb2e77e6e",
   "metadata": {},
   "outputs": [
    {
     "name": "stdout",
     "output_type": "stream",
     "text": [
      "     Actual  Predicted\n",
      "358    45.1  47.805444\n",
      "350    42.3  41.083404\n",
      "373    52.2  43.902708\n",
      "399    37.3  39.783947\n",
      "369    22.8  27.223685\n",
      "..      ...        ...\n",
      "31     25.0  40.369595\n",
      "283    23.5  32.965700\n",
      "157    35.6  42.295057\n",
      "203    46.1  43.447297\n",
      "208    26.2  28.894718\n",
      "\n",
      "[83 rows x 2 columns]\n"
     ]
    }
   ],
   "source": [
    "predictions = pd.DataFrame({'Actual': y_test, 'Predicted': y_pred})\n",
    "print(predictions)"
   ]
  },
  {
   "cell_type": "code",
   "execution_count": 65,
   "id": "02ac0a57-0fe2-402e-bf09-0968fd9da0b1",
   "metadata": {},
   "outputs": [
    {
     "data": {
      "image/png": "[encoded data removed]",
      "text/plain": [
       "<Figure size 640x480 with 1 Axes>"
      ]
     },
     "metadata": {},
     "output_type": "display_data"
    }
   ],
   "source": [
    "plt.scatter(y_test, y_pred, label='Data points')\n",
    "plt.plot([y_test.min(), y_test.max()], [y_test.min(), y_test.max()], 'r--', label='Regression line')\n",
    "plt.xlabel(\"Actual Values\")\n",
    "plt.ylabel(\"Predicted Values\")\n",
    "plt.title(\"Linear Regression: Predicted vs. Actual\")\n",
    "plt.legend()\n",
    "plt.show()"
   ]
  }
 ],
 "metadata": {
  "kernelspec": {
   "display_name": "Python 3 (ipykernel)",
   "language": "python",
   "name": "python3"
  },
  "language_info": {
   "codemirror_mode": {
    "name": "ipython",
    "version": 3
   },
   "file_extension": ".py",
   "mimetype": "text/x-python",
   "name": "python",
   "nbconvert_exporter": "python",
   "pygments_lexer": "ipython3",
   "version": "3.9.20"
  }
 },
 "nbformat": 4,
 "nbformat_minor": 5
}
